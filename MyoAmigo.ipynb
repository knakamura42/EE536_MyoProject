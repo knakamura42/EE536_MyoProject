{
 "cells": [
  {
   "cell_type": "code",
   "execution_count": 1,
   "metadata": {
    "collapsed": true,
    "pycharm": {
     "name": "#%%\n"
    }
   },
   "outputs": [],
   "source": [
    "#install IPython if display funct isn't working\n",
    "from IPython.display import display\n",
    "import pandas as pd\n",
    "import numpy as np\n",
    "import scipy\n",
    "import scipy.signal\n",
    "import matplotlib.pyplot as plt\n",
    "import pyxdf\n",
    "import mne\n",
    "import sklearn\n",
    "import os\n",
    "import sklearn\n",
    "#%matplotlib qt"
   ]
  },
  {
   "cell_type": "code",
   "execution_count": 2,
   "metadata": {
    "pycharm": {
     "name": "#%%\n"
    }
   },
   "outputs": [],
   "source": [
    "def xdf_to_dataframe(xdf_data):\n",
    "    ''' Xdf Data should be a list of streams (dictionaries)\n",
    "        Function returns a dictionary of dataframes, one dataframe per stream'''\n",
    "    dataframes = {}\n",
    "    for stream in xdf_data:\n",
    "        df = pd.DataFrame()\n",
    "        data = stream['time_series']\n",
    "        timestamps = stream['time_stamps']\n",
    "        df['Time'] = timestamps\n",
    "        chan_names, units = get_channel_names(stream['info'])\n",
    "        counts = data.shape[0]\n",
    "        for series, name, unit in zip(range(data.shape[1]), chan_names, units):\n",
    "            df[name[0]]  = data[:, series]\n",
    "            if unit:\n",
    "                df[name[0] + '_Unit'] = np.repeat(unit, counts)\n",
    "\n",
    "        for item in stream['info']:\n",
    "            if item not in ['name', 'desc', 'data']:\n",
    "                try:\n",
    "                    df[item] = np.repeat(stream['info'][item], counts)\n",
    "                except:\n",
    "                    continue\n",
    "        dataframes[stream['info']['name'][0]] = df\n",
    "    return dataframes\n",
    "\n",
    "def get_channel_names(info):\n",
    "    channels = info['desc'][0]['channels'][0]['channel']\n",
    "    names = [chan['label'] for chan in channels ]\n",
    "    units = [chan['unit'] for chan in channels ]\n",
    "    return names, units"
   ]
  },
  {
   "cell_type": "code",
   "execution_count": 3,
   "metadata": {
    "pycharm": {
     "name": "#%%\n"
    }
   },
   "outputs": [],
   "source": [
    "directory = 'Data'\n",
    "participants = ['Jin', 'Andy', 'Joe', 'Kait']\n",
    "xdf_files = ['Fist_1.xdf', 'Fist_2.xdf','Fist_3.xdf', 'Left_20_1.xdf','Left_20_2.xdf','Left_20_3.xdf','Left_50_1.xdf','Left_50_2.xdf','Left_50_3.xdf','PalmUp_1.xdf','PalmUp_2.xdf','PalmUp_3.xdf','Right_30_1.xdf','Right_30_2.xdf','Right_30_3.xdf','Right_80_1.xdf','Right_80_2.xdf','Right_80_3.xdf',]\n",
    "csv_files = ['Fist_1.csv', 'Fist_2.csv','Fist_3.csv', 'Left_20_1.csv','Left_20_2.csv','Left_20_3.csv','Left_50_1.csv','Left_50_2.csv','Left_50_3.csv','PalmUp_1.csv','PalmUp_2.csv','PalmUp_3.csv','Right_30_1.csv','Right_30_2.csv','Right_30_3.csv','Right_80_1.csv','Right_80_2.csv','Right_80_3.csv',]\n",
    "for participant in participants:\n",
    "    newfile = 0\n",
    "    for file in xdf_files:\n",
    "        data, header = pyxdf.load_xdf(os.path.join(directory, participant, file))\n",
    "        data_dfs = xdf_to_dataframe(data)\n",
    "        data_dfs['Thalmic Labs MyoMyo'].to_csv(os.path.join(directory, participant, csv_files[newfile]))\n",
    "        myo_data = pd.read_csv(os.path.join(directory, participant, csv_files[newfile]))\n",
    "        myo_data.columns = myo_data.columns.str.replace(' ', '')\n",
    "        newfile += 1\n"
   ]
  },
  {
   "cell_type": "code",
   "execution_count": 4,
   "metadata": {
    "pycharm": {
     "name": "#%%\n"
    }
   },
   "outputs": [
    {
     "data": {
      "text/plain": "<Figure size 432x288 with 8 Axes>",
      "image/png": "[encoded data removed]"
     },
     "metadata": {
      "needs_background": "light"
     },
     "output_type": "display_data"
    }
   ],
   "source": [
    "'''code used to look at 8 channels of raw data'''\n",
    "import matplotlib.pyplot as plt\n",
    "plt.figure()\n",
    "for channel in range(1,9):\n",
    "    plt.subplot(3,3,channel)\n",
    "    ax = myo_data['EMG_' + str(channel)].plot()\n",
    "    plt.title('Raw Data_' + str(channel))\n",
    "    plt.ylabel('mVolts')\n",
    "    plt.xlabel('Time')\n",
    "    plt.tight_layout()"
   ]
  },
  {
   "cell_type": "code",
   "execution_count": 5,
   "metadata": {
    "pycharm": {
     "name": "#%%\n"
    }
   },
   "outputs": [],
   "source": [
    "import scipy as sp\n",
    "import scipy.signal\n",
    "\n",
    "def filteremg(emg, low_pass=3, sfreq=200, high_band=20, low_band=95):\n",
    "    # Zero mean emg signal\n",
    "    emg = emg - emg.mean()\n",
    "    # normalise cut-off frequencies to sampling frequency\n",
    "    high_band = high_band/(sfreq/2)\n",
    "    low_band = low_band/(sfreq/2)\n",
    "    # create bandpass filter for EMG\n",
    "    b1, a1 = sp.signal.butter(4, [high_band,low_band], btype='bandpass', analog=True)\n",
    "    # process EMG signal: filter EMG\n",
    "    emg_filtered = sp.signal.filtfilt(b1, a1, emg)\n",
    "    # process EMG signal: rectify\n",
    "    emg_rectified = abs(emg_filtered)\n",
    "    # create lowpass filter and apply to rectified signal to get EMG envelope\n",
    "    #low_pass = low_pass/(sfreq/2)\n",
    "    b2, a2 = sp.signal.butter(4, low_pass, fs=sfreq, btype='lowpass')\n",
    "    emg_envelope = sp.signal.lfilter(b2, a2, emg_rectified)\n",
    "    return emg_envelope\n",
    "\n",
    "def notchfilter(emg, sfreq=256, notch_freq = 60, quality_factor = 20):\n",
    "    b_notch, a_notch = sp.signal.iirnotch(notch_freq, quality_factor, sfreq)\n",
    "    output = sp.signal.filtfilt(b_notch, a_notch, emg)\n",
    "    return output"
   ]
  },
  {
   "cell_type": "code",
   "execution_count": 6,
   "metadata": {
    "pycharm": {
     "name": "#%%\n"
    }
   },
   "outputs": [],
   "source": [
    "for participant in participants:\n",
    "    newfile = 0\n",
    "    for file in xdf_files:\n",
    "        myo_data = pd.read_csv(os.path.join(directory, participant, csv_files[newfile]))\n",
    "        myo_filtered = myo_data.copy()\n",
    "        myo_data_keys = ['EMG_' + str(i) for i in range(1, 9)] #for bio its range (1,5)\n",
    "        myo_filtered[myo_data_keys] = myo_filtered[myo_data_keys].apply(filteremg, sfreq = 256, high_band=20, low_band=95, raw=True)\n",
    "        myo_notch = myo_filtered.copy()\n",
    "        myo_data_keys = ['EMG_' + str(i) for i in range(1, 9)] #for bio its ran3ge (1,5)\n",
    "        myo_notch[myo_data_keys] = myo_notch[myo_data_keys].apply(notchfilter, raw=True)\n",
    "        #myo_notch.plot_psd(area_mode='range', tmax=10.0, show=False, average=True)\n",
    "        #plt.figure()\n",
    "        #for channel in range(1,9):\n",
    "            #plt.subplot(3,3,channel)\n",
    "            #ax = myo_notch['EMG_' + str(channel)].plot()\n",
    "            #plt.title('Total Filter_' + str(channel))\n",
    "            #plt.ylabel('mVolts')\n",
    "            #plt.xlabel('Time')\n",
    "            #plt.tight_layout()\n",
    "        newfile += 1"
   ]
  },
  {
   "cell_type": "code",
   "execution_count": 7,
   "metadata": {
    "pycharm": {
     "name": "#%%\n"
    }
   },
   "outputs": [
    {
     "data": {
      "text/plain": "    Max_PSDCh0  Max_PSDCh1  Max_PSDCh2  Max_PSDCh3  Max_PSDCh4  Max_PSDCh5  \\\n0     7.652409    0.870480    1.253394    0.163127    0.524881    4.889725   \n1     5.993175    0.916624    1.370589    0.064929    0.371108    4.699208   \n2    11.189908    1.430859    2.469341    0.133657    0.532599    5.552706   \n3     0.019743    0.005509    0.001627    0.001724    0.003490    0.142551   \n4     0.003730    0.001209    0.001250    0.002526    0.002793    0.021635   \n..         ...         ...         ...         ...         ...         ...   \n67    0.274230    1.335306    3.025513    0.782235    0.051268    0.083294   \n68    0.161785    0.625879    0.206804    0.698414    0.029966    0.091672   \n69    0.304201    1.971109    3.671105   15.175392    0.165946    0.025881   \n70    0.636367    3.774936   16.319276   25.054576    0.526915    0.065198   \n71    0.373863    1.636312   10.753554   21.667730    0.479927    0.035235   \n\n    Max_PSDCh6  Max_PSDCh7  \n0     1.258820    2.036323  \n1     0.257998    0.825740  \n2     1.926788    2.557298  \n3     3.337406    0.097002  \n4     2.222792    0.063459  \n..         ...         ...  \n67    1.576973    3.392395  \n68    2.444174    4.300933  \n69    0.802250    1.204990  \n70    0.469723    1.639677  \n71    0.118625    0.528466  \n\n[72 rows x 8 columns]",
      "text/html": "<div>\n<style scoped>\n    .dataframe tbody tr th:only-of-type {\n        vertical-align: middle;\n    }\n\n    .dataframe tbody tr th {\n        vertical-align: top;\n    }\n\n    .dataframe thead th {\n        text-align: right;\n    }\n</style>\n<table border=\"1\" class=\"dataframe\">\n  <thead>\n    <tr style=\"text-align: right;\">\n      <th></th>\n      <th>Max_PSDCh0</th>\n      <th>Max_PSDCh1</th>\n      <th>Max_PSDCh2</th>\n      <th>Max_PSDCh3</th>\n      <th>Max_PSDCh4</th>\n      <th>Max_PSDCh5</th>\n      <th>Max_PSDCh6</th>\n      <th>Max_PSDCh7</th>\n    </tr>\n  </thead>\n  <tbody>\n    <tr>\n      <th>0</th>\n      <td>7.652409</td>\n      <td>0.870480</td>\n      <td>1.253394</td>\n      <td>0.163127</td>\n      <td>0.524881</td>\n      <td>4.889725</td>\n      <td>1.258820</td>\n      <td>2.036323</td>\n    </tr>\n    <tr>\n      <th>1</th>\n      <td>5.993175</td>\n      <td>0.916624</td>\n      <td>1.370589</td>\n      <td>0.064929</td>\n      <td>0.371108</td>\n      <td>4.699208</td>\n      <td>0.257998</td>\n      <td>0.825740</td>\n    </tr>\n    <tr>\n      <th>2</th>\n      <td>11.189908</td>\n      <td>1.430859</td>\n      <td>2.469341</td>\n      <td>0.133657</td>\n      <td>0.532599</td>\n      <td>5.552706</td>\n      <td>1.926788</td>\n      <td>2.557298</td>\n    </tr>\n    <tr>\n      <th>3</th>\n      <td>0.019743</td>\n      <td>0.005509</td>\n      <td>0.001627</td>\n      <td>0.001724</td>\n      <td>0.003490</td>\n      <td>0.142551</td>\n      <td>3.337406</td>\n      <td>0.097002</td>\n    </tr>\n    <tr>\n      <th>4</th>\n      <td>0.003730</td>\n      <td>0.001209</td>\n      <td>0.001250</td>\n      <td>0.002526</td>\n      <td>0.002793</td>\n      <td>0.021635</td>\n      <td>2.222792</td>\n      <td>0.063459</td>\n    </tr>\n    <tr>\n      <th>...</th>\n      <td>...</td>\n      <td>...</td>\n      <td>...</td>\n      <td>...</td>\n      <td>...</td>\n      <td>...</td>\n      <td>...</td>\n      <td>...</td>\n    </tr>\n    <tr>\n      <th>67</th>\n      <td>0.274230</td>\n      <td>1.335306</td>\n      <td>3.025513</td>\n      <td>0.782235</td>\n      <td>0.051268</td>\n      <td>0.083294</td>\n      <td>1.576973</td>\n      <td>3.392395</td>\n    </tr>\n    <tr>\n      <th>68</th>\n      <td>0.161785</td>\n      <td>0.625879</td>\n      <td>0.206804</td>\n      <td>0.698414</td>\n      <td>0.029966</td>\n      <td>0.091672</td>\n      <td>2.444174</td>\n      <td>4.300933</td>\n    </tr>\n    <tr>\n      <th>69</th>\n      <td>0.304201</td>\n      <td>1.971109</td>\n      <td>3.671105</td>\n      <td>15.175392</td>\n      <td>0.165946</td>\n      <td>0.025881</td>\n      <td>0.802250</td>\n      <td>1.204990</td>\n    </tr>\n    <tr>\n      <th>70</th>\n      <td>0.636367</td>\n      <td>3.774936</td>\n      <td>16.319276</td>\n      <td>25.054576</td>\n      <td>0.526915</td>\n      <td>0.065198</td>\n      <td>0.469723</td>\n      <td>1.639677</td>\n    </tr>\n    <tr>\n      <th>71</th>\n      <td>0.373863</td>\n      <td>1.636312</td>\n      <td>10.753554</td>\n      <td>21.667730</td>\n      <td>0.479927</td>\n      <td>0.035235</td>\n      <td>0.118625</td>\n      <td>0.528466</td>\n    </tr>\n  </tbody>\n</table>\n<p>72 rows × 8 columns</p>\n</div>"
     },
     "metadata": {},
     "output_type": "display_data"
    }
   ],
   "source": [
    "'''Extract the PSD and find the Max Power of each sample and signal'''\n",
    "PSD=[]\n",
    "PSD_Row = []\n",
    "for participant in participants:\n",
    "    newfile = 0\n",
    "    for file in xdf_files:\n",
    "        myo_data = pd.read_csv(os.path.join(directory, participant, csv_files[newfile]))\n",
    "        myo_filtered = myo_data.copy()\n",
    "        myo_data_keys = ['EMG_' + str(i) for i in range(1, 9)] #for bio its range (1,5)\n",
    "        myo_filtered[myo_data_keys] = myo_filtered[myo_data_keys].apply(filteremg, sfreq = 256, high_band=20, low_band=95, raw=True)\n",
    "        myo_notch = myo_filtered.copy()\n",
    "        myo_data_keys = ['EMG_' + str(i) for i in range(1, 9)] #for bio its ran3ge (1,5)\n",
    "        myo_notch[myo_data_keys] = myo_notch[myo_data_keys].apply(notchfilter, raw=True)\n",
    "        #myo_notch.plot_psd(area_mode='range', tmax=10.0, show=False, average=True)\n",
    "\n",
    "        '''Copy the myo_notch files'''\n",
    "        myo_PSD = myo_notch.copy() #Copy the notched data into PSD\n",
    "        #myo_data_keys = ['EMG_' + str(i) for i in range(1, 9)] #for bio its ran3ge (1,5)\n",
    "        for channel in range(1,9):\n",
    "            Freq, P_Den = sp.signal.periodogram(myo_PSD['EMG_'+str(channel)],200)\n",
    "            bigP_Den = max(P_Den)\n",
    "            T_bigP_Den = np.transpose(bigP_Den)\n",
    "            PSD_Row.append(T_bigP_Den)\n",
    "            '''This get all 8 channel max PSD'''\n",
    "        newfile += 1\n",
    "        PSD.append([PSD_Row])\n",
    "        '''Add the channel into an list'''\n",
    "        PSD_Row = [] #Reset the TempRow\n",
    "PSD_df= pd.DataFrame(PSD,columns=['MaxPSD_1'])\n",
    "PSD_df_1= pd.DataFrame(PSD_df['MaxPSD_1'].tolist()).add_prefix('Max_PSDCh')\n",
    "display(PSD_df_1)\n",
    "\n"
   ]
  },
  {
   "cell_type": "code",
   "execution_count": 8,
   "outputs": [
    {
     "data": {
      "text/plain": "[[[2.461753291481406,\n   0.8843668088463501,\n   1.0489416432597216,\n   0.4814698818466594,\n   0.7491862179852972,\n   2.038326241456547,\n   1.4676866333823022,\n   1.522724220787487]],\n [[1.8528222964806629,\n   0.7247863064268911,\n   0.8479929685992114,\n   0.36458761252829325,\n   0.5130265774808761,\n   1.459985287287841,\n   1.2401718625415503,\n   1.0487637075280092]],\n [[1.5048858606027422,\n   0.6072918725804626,\n   0.7545835739486411,\n   0.2812938239496816,\n   0.45047876290534966,\n   1.22711444133577,\n   1.2612325503692747,\n   0.961251611294792]],\n [[0.16477691315284598,\n   0.10259669341262793,\n   0.09878056715657099,\n   0.10791186797037514,\n   0.14208348860186934,\n   0.41353999210156045,\n   1.5669554831158727,\n   0.3464298982163555]],\n [[0.1370789229634748,\n   0.09450485331716377,\n   0.09867571357894099,\n   0.1075677379629067,\n   0.1440000157733171,\n   0.4422880302923743,\n   1.7342480438165382,\n   0.3522311522113213]],\n [[0.19864020324002016,\n   0.17372329706633324,\n   0.10808771120410797,\n   0.13898133256985726,\n   0.1456960056562451,\n   0.5206369781448891,\n   2.0891722686563687,\n   0.4129855039093159]],\n [[0.721238081645779,\n   1.010141173558149,\n   0.444449778887107,\n   0.526284838721083,\n   0.31149649535398644,\n   1.1045770546272584,\n   3.7737861416191216,\n   1.0212497606748245]],\n [[0.6628375954408822,\n   0.9146401150042472,\n   0.41369724758635107,\n   0.4376322813467854,\n   0.3667372023656854,\n   1.343080927050613,\n   3.858896214120994,\n   1.0582084704568069]],\n [[0.7604698288617862,\n   0.8425362858248394,\n   0.41642600366218746,\n   0.3954198278070961,\n   0.3782790596430785,\n   1.267194869846725,\n   3.723502764823708,\n   1.2332956059758888]],\n [[1.0509437239240071,\n   1.284041971218888,\n   0.8988880473442096,\n   0.3660470064648564,\n   0.2798358612273213,\n   0.6622556373010475,\n   2.605300471904362,\n   1.7637648336952911]],\n [[0.6591820761952537,\n   0.9787055139498734,\n   0.7133189397503481,\n   0.318085402563218,\n   0.253762513039458,\n   0.5671893061748743,\n   2.014615381065999,\n   1.3778943517220914]],\n [[0.9148655694686426,\n   1.1211217907716051,\n   0.7940710262015944,\n   0.3563976976828535,\n   0.26631332184389445,\n   0.5856842539040649,\n   2.3833918611478895,\n   1.8910778150372707]],\n [[0.24277930795775865,\n   0.3498854920738712,\n   0.1654057732587171,\n   0.12224544584290697,\n   0.1447341288477341,\n   0.2602732819506147,\n   0.4936083600785872,\n   0.22564550809124115]],\n [[0.21277347681726036,\n   0.13901850539654714,\n   0.11677104450684749,\n   0.12564272419041533,\n   0.13576749372034058,\n   0.20120187252140095,\n   0.5216161225406541,\n   0.22425453086317376]],\n [[0.12087278718040424,\n   0.10242956079006611,\n   0.08485778689100956,\n   0.10346541063274596,\n   0.13590821580120077,\n   0.16295337927207185,\n   0.5341913602697934,\n   0.18582420257371574]],\n [[0.8936959191200085,\n   1.0980530261883386,\n   0.8431867413224061,\n   0.4508272433168707,\n   0.2594003862924629,\n   0.4428441858073827,\n   0.8989215435104527,\n   0.5846519373416924]],\n [[1.0176356431351847,\n   1.2445147777302121,\n   0.6915863819806821,\n   0.5940745999769828,\n   0.2608755325302017,\n   0.2508043323495638,\n   0.8335350419989257,\n   0.5252086640591143]],\n [[0.9799790594724942,\n   1.5525701623389745,\n   1.1725894797807013,\n   0.655342732545941,\n   0.23693092743840216,\n   0.18547486715259937,\n   0.5703542902213794,\n   0.40054476127621436]],\n [[2.371542768406237,\n   2.5842638623313494,\n   1.1404193484748957,\n   0.6838220302102748,\n   1.322172900250115,\n   1.6518502472539693,\n   1.4729291301148917,\n   2.098114380761402]],\n [[2.4308115120204397,\n   2.350019109104292,\n   1.2012253638519794,\n   0.6678495547798208,\n   1.2726919887386208,\n   1.5169691835867896,\n   1.6846963983851837,\n   2.334118947784139]],\n [[2.1986368884309235,\n   2.0128098956963543,\n   0.8481578672003919,\n   0.5563289094950831,\n   1.1273962511283981,\n   1.4261049435230524,\n   1.5376950691815947,\n   1.8513578120170278]],\n [[0.18781643181709953,\n   0.11060118199228265,\n   0.0930132174508025,\n   0.10855018324027489,\n   0.1545959362504825,\n   0.44344625639502905,\n   1.1508957602528138,\n   0.4733326425562997]],\n [[0.22088993462109344,\n   0.11674703887072645,\n   0.09760467238875092,\n   0.11635353814512799,\n   0.1936546385225186,\n   0.5548155263484964,\n   1.223739439727405,\n   0.5816933294052274]],\n [[0.20688964151969444,\n   0.10830383363995971,\n   0.11173133051849528,\n   0.11696560950392511,\n   0.162752541180451,\n   0.3360977577064582,\n   1.0855466012916388,\n   0.5902322582180827]],\n [[0.6039435310797036,\n   0.3470084026741404,\n   0.3090833282902433,\n   0.3556313717374999,\n   0.6523930331963174,\n   1.6900896179993021,\n   2.6520826863703433,\n   1.7787374333784822]],\n [[0.46257230387522247,\n   0.2539088762985001,\n   0.24316248023274284,\n   0.32404493323848305,\n   0.746592355174479,\n   1.6877714047650496,\n   2.4673151370351145,\n   1.249982436410747]],\n [[0.676165731787977,\n   0.37800905852354905,\n   0.3026997087153698,\n   0.38154194743874975,\n   0.8764339218738514,\n   1.9513891649330655,\n   2.4999501796509462,\n   2.104921710228846]],\n [[0.4957820403527312,\n   0.32098840040489485,\n   0.24326559818960053,\n   0.2655480010291895,\n   0.3537827424216482,\n   1.158654408739836,\n   1.9621484407173677,\n   1.3257814574296325]],\n [[0.40506989508317814,\n   0.3392726726168175,\n   0.21716895393350596,\n   0.22547367863359924,\n   0.32833879616830675,\n   1.0470687949083486,\n   2.0464498666963773,\n   1.1938111493067491]],\n [[0.366726586540034,\n   0.23490929640876415,\n   0.2678634724648218,\n   0.2680906301122597,\n   0.42154977448016806,\n   1.1312996753733247,\n   2.185690266952606,\n   1.1234563269710085]],\n [[0.1725722864199255,\n   0.1142656876682974,\n   0.1896642049261056,\n   0.16760278439526236,\n   0.14762652320205918,\n   0.23890742718820385,\n   0.5029230393372515,\n   0.3120921838588028]],\n [[0.15334634119245852,\n   0.10856062720286742,\n   0.15986654189405183,\n   0.12637916902825239,\n   0.13943056822090877,\n   0.22759046215178225,\n   0.44024156702843675,\n   0.30727334175104337]],\n [[0.1961004778365064,\n   0.1240467661076282,\n   0.22541021904431263,\n   0.1578710668496492,\n   0.16837492229602702,\n   0.29812170080272726,\n   0.601075828874455,\n   0.529396495968823]],\n [[1.2235557592745452,\n   1.1124582567560521,\n   1.1865676116183692,\n   1.1119481848874162,\n   0.37804031809941324,\n   0.43136893954539396,\n   0.8478774994157013,\n   1.1233740473883451]],\n [[1.1173179043366337,\n   0.9156555068773784,\n   0.7957312570694599,\n   0.6438330505499896,\n   0.3238153404856598,\n   0.40364773964774814,\n   0.8760354268136014,\n   0.8659794214343547]],\n [[1.2189069873696876,\n   1.1277665296938786,\n   0.9691628701142014,\n   0.885387330405398,\n   0.3628307034298993,\n   0.4899586111535375,\n   0.7475615403492252,\n   0.9832019270747597]],\n [[1.4797482083349747,\n   1.5678772420950053,\n   1.1505495427351855,\n   0.6063490030761289,\n   0.5986479098377978,\n   1.0267137475781758,\n   1.1241352370987765,\n   1.2360271186611025]],\n [[1.7564033102630974,\n   1.721752511105736,\n   1.4023385954027274,\n   0.842009663408491,\n   1.012402018393001,\n   1.2848726392290255,\n   1.5087094580585494,\n   1.8454476056640126]],\n [[1.7384659307876655,\n   1.948487336597369,\n   1.5592612019507994,\n   1.4898754405579815,\n   1.8356401824510769,\n   1.5598312894358206,\n   1.453951062092899,\n   1.919988066003429]],\n [[0.20746078189452008,\n   0.33895795247770694,\n   0.2256976544754817,\n   0.30620821050765346,\n   0.16870589106577077,\n   0.2085750060409638,\n   0.756514082737347,\n   0.47975295987303757]],\n [[0.34884852299935803,\n   0.7581865351003478,\n   0.31057531013934014,\n   0.46324740144115656,\n   0.1997034029955332,\n   0.31743039221844477,\n   1.0002036931873004,\n   0.5792918129961228]],\n [[0.3483597166580253,\n   0.5282065525511628,\n   0.29948234971876375,\n   0.43806704162961757,\n   0.18449476825594882,\n   0.219868275193586,\n   0.8314562691575617,\n   0.636843822501532]],\n [[1.3340860064876556,\n   1.6317414426988275,\n   0.7594329590796507,\n   0.6501956469140494,\n   0.8211131741835063,\n   1.1865213402082757,\n   2.2280611784655857,\n   2.078068587958708]],\n [[1.4404386178707629,\n   1.6033666726790008,\n   0.8097701304102032,\n   0.6463835971039144,\n   0.7747112415110116,\n   1.0908966329195224,\n   2.378528330543434,\n   2.4442237410719607]],\n [[1.5852983743335909,\n   1.8107695926144778,\n   0.8768707489027981,\n   0.6005832531252978,\n   0.7981846083293821,\n   1.2573573837082166,\n   2.3257352470445256,\n   2.102057876476185]],\n [[1.2370923584963143,\n   1.6207879345841842,\n   0.9581189993366449,\n   0.7010147403492653,\n   0.55434908437908,\n   1.0137677590781105,\n   2.0569371871348703,\n   2.364852489053527]],\n [[1.3498865470950425,\n   1.6401194007170565,\n   0.7360102885626466,\n   0.540203877238687,\n   0.5539502538237755,\n   0.8954750928906048,\n   2.1917808571199044,\n   2.385670688367131]],\n [[0.9134735941042685,\n   1.2458591479968693,\n   0.5264962962919921,\n   0.36525086280113034,\n   0.4079327661538977,\n   0.6929863901154942,\n   1.6841942449679144,\n   2.071273357854073]],\n [[0.29127256756521386,\n   0.2748685966598594,\n   0.28375409498047055,\n   0.24267069212266157,\n   0.13709852323116345,\n   0.24885713106681984,\n   0.6944810206717908,\n   0.6622571285503914]],\n [[0.22105969820067664,\n   0.18570527203488335,\n   0.4247759238320872,\n   0.6296117582430216,\n   0.20079290551044363,\n   0.28234496356244837,\n   0.7045715144645363,\n   0.6778150909806445]],\n [[0.1721267624463527,\n   0.1655586035609289,\n   0.40315040018154635,\n   0.5558591512800384,\n   0.16812667820404192,\n   0.22368322126402368,\n   0.7147394626148321,\n   0.573897260149259]],\n [[1.4867215946104362,\n   2.207505700630846,\n   1.2088481895917722,\n   1.2416250051443707,\n   0.4357711369275693,\n   0.5561998013221504,\n   1.370945279602422,\n   1.878857064533899]],\n [[1.6081292063505401,\n   2.082032822723942,\n   1.1959020574583468,\n   1.3068709131211695,\n   0.49677521874881764,\n   0.7935762129567401,\n   1.7221340154351015,\n   2.0161099926700747]],\n [[1.2725658932383603,\n   1.7099662721409654,\n   0.8203275550103192,\n   0.6887218490209664,\n   0.3236261688797008,\n   0.5511496885849821,\n   1.2412163567121597,\n   1.4930747984893693]],\n [[2.7731774535744376,\n   1.2774487740416958,\n   2.23608466234245,\n   0.878953353180668,\n   0.44015912838355664,\n   1.245156665263619,\n   1.9702534960717772,\n   1.1446968155157364]],\n [[2.4582132450714806,\n   1.1479142518102523,\n   1.8218130955257252,\n   0.6595146723909115,\n   0.4489889694124976,\n   1.2555813748769311,\n   2.205625646020361,\n   1.188501865789221]],\n [[2.2809657539818375,\n   1.0123669713312933,\n   2.075413277816818,\n   0.7794055415583125,\n   0.4051300811912544,\n   1.0896867663887126,\n   1.9607897098327498,\n   1.1284806463476145]],\n [[0.33788035053905524,\n   0.20943659796220296,\n   0.1897297437500344,\n   0.2239273503988523,\n   0.35419218149615594,\n   0.6054642777637034,\n   2.1933033620886553,\n   1.190082572418955]],\n [[0.9426037624986231,\n   1.2926684088192326,\n   0.8574979314383746,\n   0.4944471009896716,\n   0.5144370637384674,\n   0.7564558298523254,\n   2.2177573999344453,\n   2.124747793952241]],\n [[0.7639461601226288,\n   1.4369724637099373,\n   1.388557819899041,\n   0.5177007477484288,\n   0.5134630002072574,\n   0.8133621349398816,\n   2.643715898949567,\n   2.006139663700098]],\n [[1.3993568349795227,\n   1.10381281191829,\n   0.7134192521176244,\n   0.6148085872439304,\n   0.9543560895519092,\n   1.4248838693279706,\n   3.2717929805815475,\n   3.0298730218574517]],\n [[1.0108393661116075,\n   0.6143657689039572,\n   0.4665380873593966,\n   0.5034006827500539,\n   0.7708318741176546,\n   1.1397689334157601,\n   2.7566365774716277,\n   2.4320284520211746]],\n [[1.1218412344769566,\n   0.5536520130656866,\n   0.42623322600403246,\n   0.49417999847595284,\n   0.7983138626083731,\n   1.4430154250560228,\n   3.1095869375395018,\n   2.7326032245630296]],\n [[0.8217475470038731,\n   1.3784999080024727,\n   0.917774711497935,\n   0.4868141635286228,\n   0.41181904463524016,\n   0.5552863531739405,\n   1.7710071718270635,\n   1.4720172570829473]],\n [[0.6776570087949619,\n   1.1064672157373703,\n   0.7865990706270661,\n   0.4658676463841932,\n   0.41151772232473494,\n   0.5635798906212843,\n   1.9608278377495256,\n   1.3492869268851257]],\n [[0.4588771351795044,\n   0.6923106824308873,\n   0.5710746600882933,\n   0.3680031970076778,\n   0.3241992992884361,\n   0.515033641293209,\n   1.4266449517712696,\n   0.9091611898375139]],\n [[0.3270103005816798,\n   0.765353079892934,\n   0.46984731489748505,\n   0.3949549251804113,\n   0.2110132286940959,\n   0.29101516474807215,\n   0.9686297093322473,\n   0.8906127892306418]],\n [[0.41053776108963513,\n   0.7419439497584817,\n   0.8596132478857289,\n   0.5680074029650288,\n   0.23738906500502885,\n   0.30395589949489726,\n   1.194214316543577,\n   1.180386366615006]],\n [[0.37509480717942795,\n   0.5063354138779355,\n   0.4101334300057259,\n   0.6805418672246943,\n   0.24508475131992058,\n   0.34075916656127264,\n   1.259804992999257,\n   1.4349717005491085]],\n [[0.534697236023656,\n   0.9733006418973684,\n   1.3435832386584563,\n   2.5680838580585488,\n   0.39334724044477465,\n   0.30294296605079835,\n   0.7974116481891343,\n   1.2486497264026668]],\n [[0.5652408019061802,\n   0.8769867434820473,\n   1.773319877079026,\n   2.3100821271160794,\n   0.44803097542320386,\n   0.31389166547142267,\n   0.9393982743897453,\n   0.9106177690741032]],\n [[0.5477816350037996,\n   0.6935972804541812,\n   1.6090286725342688,\n   2.359577057870882,\n   0.45210448878712645,\n   0.2662410825718024,\n   0.47001983069205944,\n   0.6965963757961635]]]"
     },
     "metadata": {},
     "output_type": "display_data"
    },
    {
     "data": {
      "text/plain": "                                                  avg\n0   [2.461753291481406, 0.8843668088463501, 1.0489...\n1   [1.8528222964806629, 0.7247863064268911, 0.847...\n2   [1.5048858606027422, 0.6072918725804626, 0.754...\n3   [0.16477691315284598, 0.10259669341262793, 0.0...\n4   [0.1370789229634748, 0.09450485331716377, 0.09...\n..                                                ...\n67  [0.41053776108963513, 0.7419439497584817, 0.85...\n68  [0.37509480717942795, 0.5063354138779355, 0.41...\n69  [0.534697236023656, 0.9733006418973684, 1.3435...\n70  [0.5652408019061802, 0.8769867434820473, 1.773...\n71  [0.5477816350037996, 0.6935972804541812, 1.609...\n\n[72 rows x 1 columns]",
      "text/html": "<div>\n<style scoped>\n    .dataframe tbody tr th:only-of-type {\n        vertical-align: middle;\n    }\n\n    .dataframe tbody tr th {\n        vertical-align: top;\n    }\n\n    .dataframe thead th {\n        text-align: right;\n    }\n</style>\n<table border=\"1\" class=\"dataframe\">\n  <thead>\n    <tr style=\"text-align: right;\">\n      <th></th>\n      <th>avg</th>\n    </tr>\n  </thead>\n  <tbody>\n    <tr>\n      <th>0</th>\n      <td>[2.461753291481406, 0.8843668088463501, 1.0489...</td>\n    </tr>\n    <tr>\n      <th>1</th>\n      <td>[1.8528222964806629, 0.7247863064268911, 0.847...</td>\n    </tr>\n    <tr>\n      <th>2</th>\n      <td>[1.5048858606027422, 0.6072918725804626, 0.754...</td>\n    </tr>\n    <tr>\n      <th>3</th>\n      <td>[0.16477691315284598, 0.10259669341262793, 0.0...</td>\n    </tr>\n    <tr>\n      <th>4</th>\n      <td>[0.1370789229634748, 0.09450485331716377, 0.09...</td>\n    </tr>\n    <tr>\n      <th>...</th>\n      <td>...</td>\n    </tr>\n    <tr>\n      <th>67</th>\n      <td>[0.41053776108963513, 0.7419439497584817, 0.85...</td>\n    </tr>\n    <tr>\n      <th>68</th>\n      <td>[0.37509480717942795, 0.5063354138779355, 0.41...</td>\n    </tr>\n    <tr>\n      <th>69</th>\n      <td>[0.534697236023656, 0.9733006418973684, 1.3435...</td>\n    </tr>\n    <tr>\n      <th>70</th>\n      <td>[0.5652408019061802, 0.8769867434820473, 1.773...</td>\n    </tr>\n    <tr>\n      <th>71</th>\n      <td>[0.5477816350037996, 0.6935972804541812, 1.609...</td>\n    </tr>\n  </tbody>\n</table>\n<p>72 rows × 1 columns</p>\n</div>"
     },
     "metadata": {},
     "output_type": "display_data"
    },
    {
     "data": {
      "text/plain": "    Mean_Ch0  Mean_Ch1  Mean_Ch2  Mean_Ch3  Mean_Ch4  Mean_Ch5  Mean_Ch6  \\\n0   2.461753  0.884367  1.048942  0.481470  0.749186  2.038326  1.467687   \n1   1.852822  0.724786  0.847993  0.364588  0.513027  1.459985  1.240172   \n2   1.504886  0.607292  0.754584  0.281294  0.450479  1.227114  1.261233   \n3   0.164777  0.102597  0.098781  0.107912  0.142083  0.413540  1.566955   \n4   0.137079  0.094505  0.098676  0.107568  0.144000  0.442288  1.734248   \n..       ...       ...       ...       ...       ...       ...       ...   \n67  0.410538  0.741944  0.859613  0.568007  0.237389  0.303956  1.194214   \n68  0.375095  0.506335  0.410133  0.680542  0.245085  0.340759  1.259805   \n69  0.534697  0.973301  1.343583  2.568084  0.393347  0.302943  0.797412   \n70  0.565241  0.876987  1.773320  2.310082  0.448031  0.313892  0.939398   \n71  0.547782  0.693597  1.609029  2.359577  0.452104  0.266241  0.470020   \n\n    Mean_Ch7  \n0   1.522724  \n1   1.048764  \n2   0.961252  \n3   0.346430  \n4   0.352231  \n..       ...  \n67  1.180386  \n68  1.434972  \n69  1.248650  \n70  0.910618  \n71  0.696596  \n\n[72 rows x 8 columns]",
      "text/html": "<div>\n<style scoped>\n    .dataframe tbody tr th:only-of-type {\n        vertical-align: middle;\n    }\n\n    .dataframe tbody tr th {\n        vertical-align: top;\n    }\n\n    .dataframe thead th {\n        text-align: right;\n    }\n</style>\n<table border=\"1\" class=\"dataframe\">\n  <thead>\n    <tr style=\"text-align: right;\">\n      <th></th>\n      <th>Mean_Ch0</th>\n      <th>Mean_Ch1</th>\n      <th>Mean_Ch2</th>\n      <th>Mean_Ch3</th>\n      <th>Mean_Ch4</th>\n      <th>Mean_Ch5</th>\n      <th>Mean_Ch6</th>\n      <th>Mean_Ch7</th>\n    </tr>\n  </thead>\n  <tbody>\n    <tr>\n      <th>0</th>\n      <td>2.461753</td>\n      <td>0.884367</td>\n      <td>1.048942</td>\n      <td>0.481470</td>\n      <td>0.749186</td>\n      <td>2.038326</td>\n      <td>1.467687</td>\n      <td>1.522724</td>\n    </tr>\n    <tr>\n      <th>1</th>\n      <td>1.852822</td>\n      <td>0.724786</td>\n      <td>0.847993</td>\n      <td>0.364588</td>\n      <td>0.513027</td>\n      <td>1.459985</td>\n      <td>1.240172</td>\n      <td>1.048764</td>\n    </tr>\n    <tr>\n      <th>2</th>\n      <td>1.504886</td>\n      <td>0.607292</td>\n      <td>0.754584</td>\n      <td>0.281294</td>\n      <td>0.450479</td>\n      <td>1.227114</td>\n      <td>1.261233</td>\n      <td>0.961252</td>\n    </tr>\n    <tr>\n      <th>3</th>\n      <td>0.164777</td>\n      <td>0.102597</td>\n      <td>0.098781</td>\n      <td>0.107912</td>\n      <td>0.142083</td>\n      <td>0.413540</td>\n      <td>1.566955</td>\n      <td>0.346430</td>\n    </tr>\n    <tr>\n      <th>4</th>\n      <td>0.137079</td>\n      <td>0.094505</td>\n      <td>0.098676</td>\n      <td>0.107568</td>\n      <td>0.144000</td>\n      <td>0.442288</td>\n      <td>1.734248</td>\n      <td>0.352231</td>\n    </tr>\n    <tr>\n      <th>...</th>\n      <td>...</td>\n      <td>...</td>\n      <td>...</td>\n      <td>...</td>\n      <td>...</td>\n      <td>...</td>\n      <td>...</td>\n      <td>...</td>\n    </tr>\n    <tr>\n      <th>67</th>\n      <td>0.410538</td>\n      <td>0.741944</td>\n      <td>0.859613</td>\n      <td>0.568007</td>\n      <td>0.237389</td>\n      <td>0.303956</td>\n      <td>1.194214</td>\n      <td>1.180386</td>\n    </tr>\n    <tr>\n      <th>68</th>\n      <td>0.375095</td>\n      <td>0.506335</td>\n      <td>0.410133</td>\n      <td>0.680542</td>\n      <td>0.245085</td>\n      <td>0.340759</td>\n      <td>1.259805</td>\n      <td>1.434972</td>\n    </tr>\n    <tr>\n      <th>69</th>\n      <td>0.534697</td>\n      <td>0.973301</td>\n      <td>1.343583</td>\n      <td>2.568084</td>\n      <td>0.393347</td>\n      <td>0.302943</td>\n      <td>0.797412</td>\n      <td>1.248650</td>\n    </tr>\n    <tr>\n      <th>70</th>\n      <td>0.565241</td>\n      <td>0.876987</td>\n      <td>1.773320</td>\n      <td>2.310082</td>\n      <td>0.448031</td>\n      <td>0.313892</td>\n      <td>0.939398</td>\n      <td>0.910618</td>\n    </tr>\n    <tr>\n      <th>71</th>\n      <td>0.547782</td>\n      <td>0.693597</td>\n      <td>1.609029</td>\n      <td>2.359577</td>\n      <td>0.452104</td>\n      <td>0.266241</td>\n      <td>0.470020</td>\n      <td>0.696596</td>\n    </tr>\n  </tbody>\n</table>\n<p>72 rows × 8 columns</p>\n</div>"
     },
     "metadata": {},
     "output_type": "display_data"
    }
   ],
   "source": [
    "'''Exctract Mean signals'''\n",
    "Mean_df=[]\n",
    "Mean_Temp = []\n",
    "for participant in participants:\n",
    "    newfile = 0\n",
    "    for file in xdf_files:\n",
    "        myo_data = pd.read_csv(os.path.join(directory, participant, csv_files[newfile]))\n",
    "        myo_filtered = myo_data.copy()\n",
    "        myo_data_keys = ['EMG_' + str(i) for i in range(1, 9)] #for bio its range (1,5)\n",
    "        myo_filtered[myo_data_keys] = myo_filtered[myo_data_keys].apply(filteremg, sfreq = 256, high_band=20, low_band=95, raw=True)\n",
    "        myo_notch = myo_filtered.copy()\n",
    "        myo_data_keys = ['EMG_' + str(i) for i in range(1, 9)] #for bio its ran3ge (1,5)\n",
    "        myo_notch[myo_data_keys] = myo_notch[myo_data_keys].apply(notchfilter, raw=True)\n",
    "        #myo_notch.plot_psd(area_mode='range', tmax=10.0, show=False, average=True)\n",
    "\n",
    "        '''Copy the myo_notch files'''\n",
    "        myo_Mean = myo_notch.copy() #Copy the notched data into PSD\n",
    "        #myo_data_keys = ['EMG_' + str(i) for i in range(1, 9)] #for bio its ran3ge (1,5)\n",
    "        for channel in range(1,9):\n",
    "            '''Add the Mean code here'''\n",
    "            Mean_1 = np.mean(myo_Mean['EMG_'+str(channel)]) #Extracgt one channel of the mean\n",
    "            '''This get all 8 channel max PSD'''\n",
    "            Mean_Temp.append(Mean_1)\n",
    "        newfile += 1\n",
    "        Mean_df.append([Mean_Temp])\n",
    "        Mean_Temp = [] #Reset the TempRow\n",
    "display(Mean_df)\n",
    "Mean_df= pd.DataFrame(Mean_df,columns=['avg'])\n",
    "display(Mean_df)\n",
    "Mean_df_1= pd.DataFrame(Mean_df['avg'].tolist()).add_prefix('Mean_Ch')\n",
    "display(Mean_df_1)\n"
   ],
   "metadata": {
    "collapsed": false,
    "pycharm": {
     "name": "#%%\n"
    }
   }
  },
  {
   "cell_type": "code",
   "execution_count": 9,
   "outputs": [
    {
     "data": {
      "text/plain": "     STD_Ch0   STD_Ch1   STD_Ch2   STD_Ch3   STD_Ch4   STD_Ch5   STD_Ch6  \\\n0   1.598083  0.538037  0.697017  0.272103  0.452000  1.225126  0.717386   \n1   1.307164  0.483155  0.558576  0.154024  0.293552  0.966567  0.442312   \n2   1.283871  0.481421  0.619158  0.157426  0.291940  0.908751  0.595076   \n3   0.082071  0.046922  0.036009  0.032963  0.042683  0.209884  0.893496   \n4   0.050085  0.028896  0.033830  0.048953  0.046327  0.156390  0.905133   \n..       ...       ...       ...       ...       ...       ...       ...   \n67  0.297708  0.609953  0.956086  0.460652  0.122881  0.167656  0.741006   \n68  0.216849  0.403277  0.328214  0.443161  0.109468  0.167925  0.791170   \n69  0.366439  0.862780  1.123683  2.154211  0.227617  0.133867  0.755354   \n70  0.438780  1.005547  2.031488  2.400223  0.366349  0.169035  0.482770   \n71  0.364978  0.661134  1.635674  2.312570  0.378568  0.129338  0.232223   \n\n     STD_Ch7  \n0   0.824354  \n1   0.554177  \n2   0.643937  \n3   0.196601  \n4   0.169012  \n..       ...  \n67  1.014071  \n68  1.052261  \n69  0.717546  \n70  0.695728  \n71  0.414011  \n\n[72 rows x 8 columns]",
      "text/html": "<div>\n<style scoped>\n    .dataframe tbody tr th:only-of-type {\n        vertical-align: middle;\n    }\n\n    .dataframe tbody tr th {\n        vertical-align: top;\n    }\n\n    .dataframe thead th {\n        text-align: right;\n    }\n</style>\n<table border=\"1\" class=\"dataframe\">\n  <thead>\n    <tr style=\"text-align: right;\">\n      <th></th>\n      <th>STD_Ch0</th>\n      <th>STD_Ch1</th>\n      <th>STD_Ch2</th>\n      <th>STD_Ch3</th>\n      <th>STD_Ch4</th>\n      <th>STD_Ch5</th>\n      <th>STD_Ch6</th>\n      <th>STD_Ch7</th>\n    </tr>\n  </thead>\n  <tbody>\n    <tr>\n      <th>0</th>\n      <td>1.598083</td>\n      <td>0.538037</td>\n      <td>0.697017</td>\n      <td>0.272103</td>\n      <td>0.452000</td>\n      <td>1.225126</td>\n      <td>0.717386</td>\n      <td>0.824354</td>\n    </tr>\n    <tr>\n      <th>1</th>\n      <td>1.307164</td>\n      <td>0.483155</td>\n      <td>0.558576</td>\n      <td>0.154024</td>\n      <td>0.293552</td>\n      <td>0.966567</td>\n      <td>0.442312</td>\n      <td>0.554177</td>\n    </tr>\n    <tr>\n      <th>2</th>\n      <td>1.283871</td>\n      <td>0.481421</td>\n      <td>0.619158</td>\n      <td>0.157426</td>\n      <td>0.291940</td>\n      <td>0.908751</td>\n      <td>0.595076</td>\n      <td>0.643937</td>\n    </tr>\n    <tr>\n      <th>3</th>\n      <td>0.082071</td>\n      <td>0.046922</td>\n      <td>0.036009</td>\n      <td>0.032963</td>\n      <td>0.042683</td>\n      <td>0.209884</td>\n      <td>0.893496</td>\n      <td>0.196601</td>\n    </tr>\n    <tr>\n      <th>4</th>\n      <td>0.050085</td>\n      <td>0.028896</td>\n      <td>0.033830</td>\n      <td>0.048953</td>\n      <td>0.046327</td>\n      <td>0.156390</td>\n      <td>0.905133</td>\n      <td>0.169012</td>\n    </tr>\n    <tr>\n      <th>...</th>\n      <td>...</td>\n      <td>...</td>\n      <td>...</td>\n      <td>...</td>\n      <td>...</td>\n      <td>...</td>\n      <td>...</td>\n      <td>...</td>\n    </tr>\n    <tr>\n      <th>67</th>\n      <td>0.297708</td>\n      <td>0.609953</td>\n      <td>0.956086</td>\n      <td>0.460652</td>\n      <td>0.122881</td>\n      <td>0.167656</td>\n      <td>0.741006</td>\n      <td>1.014071</td>\n    </tr>\n    <tr>\n      <th>68</th>\n      <td>0.216849</td>\n      <td>0.403277</td>\n      <td>0.328214</td>\n      <td>0.443161</td>\n      <td>0.109468</td>\n      <td>0.167925</td>\n      <td>0.791170</td>\n      <td>1.052261</td>\n    </tr>\n    <tr>\n      <th>69</th>\n      <td>0.366439</td>\n      <td>0.862780</td>\n      <td>1.123683</td>\n      <td>2.154211</td>\n      <td>0.227617</td>\n      <td>0.133867</td>\n      <td>0.755354</td>\n      <td>0.717546</td>\n    </tr>\n    <tr>\n      <th>70</th>\n      <td>0.438780</td>\n      <td>1.005547</td>\n      <td>2.031488</td>\n      <td>2.400223</td>\n      <td>0.366349</td>\n      <td>0.169035</td>\n      <td>0.482770</td>\n      <td>0.695728</td>\n    </tr>\n    <tr>\n      <th>71</th>\n      <td>0.364978</td>\n      <td>0.661134</td>\n      <td>1.635674</td>\n      <td>2.312570</td>\n      <td>0.378568</td>\n      <td>0.129338</td>\n      <td>0.232223</td>\n      <td>0.414011</td>\n    </tr>\n  </tbody>\n</table>\n<p>72 rows × 8 columns</p>\n</div>"
     },
     "metadata": {},
     "output_type": "display_data"
    }
   ],
   "source": [
    "'''Standard Deviation'''\n",
    "#std\n",
    "std=[]\n",
    "std_Row = []\n",
    "for participant in participants:\n",
    "    newfile = 0\n",
    "    for file in xdf_files:\n",
    "        myo_data = pd.read_csv(os.path.join(directory, participant, csv_files[newfile]))\n",
    "        myo_filtered = myo_data.copy()\n",
    "        myo_datakeys = ['EMG' + str(i) for i in range(1, 9)] #for bio its range (1,5)\n",
    "        myo_filtered[myo_data_keys] = myo_filtered[myo_data_keys].apply(filteremg, sfreq = 256, high_band=20, low_band=95, raw=True)\n",
    "        myo_notch = myo_filtered.copy()\n",
    "        myo_datakeys = ['EMG' + str(i) for i in range(1, 9)] #for bio its range (1,5)\n",
    "        myo_notch[myo_data_keys] = myo_notch[myo_data_keys].apply(notchfilter, raw=True)\n",
    "        #myo_notch.plot_psd(area_mode='range', tmax=10.0, show=False, average=True)\n",
    "        '''Copy the myo_notch files'''\n",
    "        myo_STD= myo_notch.copy() #Copy the notched data\n",
    "        for channel in range(1,9):\n",
    "            std_temp = np.std(myo_STD['EMG_'+str(channel)])\n",
    "            T_std_temp = np.transpose(std_temp)\n",
    "            std_Row.append(T_std_temp)\n",
    "            '''This get all 8 channel max PSD'''\n",
    "        newfile += 1\n",
    "        std.append([std_Row])\n",
    "        std_Row = [] #Reset the TempRow\n",
    "std_df= pd.DataFrame(std,columns=['STD'])\n",
    "std_df_1= pd.DataFrame(std_df['STD'].tolist()).add_prefix('STD_Ch')\n",
    "display(std_df_1)"
   ],
   "metadata": {
    "collapsed": false,
    "pycharm": {
     "name": "#%%\n"
    }
   }
  },
  {
   "cell_type": "code",
   "execution_count": 10,
   "outputs": [
    {
     "data": {
      "text/plain": "    Max_PSDCh0  Max_PSDCh1  Max_PSDCh2  Max_PSDCh3  Max_PSDCh4  Max_PSDCh5  \\\n0     7.652409    0.870480    1.253394    0.163127    0.524881    4.889725   \n1     5.993175    0.916624    1.370589    0.064929    0.371108    4.699208   \n2    11.189908    1.430859    2.469341    0.133657    0.532599    5.552706   \n3     0.019743    0.005509    0.001627    0.001724    0.003490    0.142551   \n4     0.003730    0.001209    0.001250    0.002526    0.002793    0.021635   \n..         ...         ...         ...         ...         ...         ...   \n67    0.274230    1.335306    3.025513    0.782235    0.051268    0.083294   \n68    0.161785    0.625879    0.206804    0.698414    0.029966    0.091672   \n69    0.304201    1.971109    3.671105   15.175392    0.165946    0.025881   \n70    0.636367    3.774936   16.319276   25.054576    0.526915    0.065198   \n71    0.373863    1.636312   10.753554   21.667730    0.479927    0.035235   \n\n    Max_PSDCh6  Max_PSDCh7  Mean_Ch0  Mean_Ch1  ...  Mean_Ch6  Mean_Ch7  \\\n0     1.258820    2.036323  2.461753  0.884367  ...  1.467687  1.522724   \n1     0.257998    0.825740  1.852822  0.724786  ...  1.240172  1.048764   \n2     1.926788    2.557298  1.504886  0.607292  ...  1.261233  0.961252   \n3     3.337406    0.097002  0.164777  0.102597  ...  1.566955  0.346430   \n4     2.222792    0.063459  0.137079  0.094505  ...  1.734248  0.352231   \n..         ...         ...       ...       ...  ...       ...       ...   \n67    1.576973    3.392395  0.410538  0.741944  ...  1.194214  1.180386   \n68    2.444174    4.300933  0.375095  0.506335  ...  1.259805  1.434972   \n69    0.802250    1.204990  0.534697  0.973301  ...  0.797412  1.248650   \n70    0.469723    1.639677  0.565241  0.876987  ...  0.939398  0.910618   \n71    0.118625    0.528466  0.547782  0.693597  ...  0.470020  0.696596   \n\n     STD_Ch0   STD_Ch1   STD_Ch2   STD_Ch3   STD_Ch4   STD_Ch5   STD_Ch6  \\\n0   1.598083  0.538037  0.697017  0.272103  0.452000  1.225126  0.717386   \n1   1.307164  0.483155  0.558576  0.154024  0.293552  0.966567  0.442312   \n2   1.283871  0.481421  0.619158  0.157426  0.291940  0.908751  0.595076   \n3   0.082071  0.046922  0.036009  0.032963  0.042683  0.209884  0.893496   \n4   0.050085  0.028896  0.033830  0.048953  0.046327  0.156390  0.905133   \n..       ...       ...       ...       ...       ...       ...       ...   \n67  0.297708  0.609953  0.956086  0.460652  0.122881  0.167656  0.741006   \n68  0.216849  0.403277  0.328214  0.443161  0.109468  0.167925  0.791170   \n69  0.366439  0.862780  1.123683  2.154211  0.227617  0.133867  0.755354   \n70  0.438780  1.005547  2.031488  2.400223  0.366349  0.169035  0.482770   \n71  0.364978  0.661134  1.635674  2.312570  0.378568  0.129338  0.232223   \n\n     STD_Ch7  \n0   0.824354  \n1   0.554177  \n2   0.643937  \n3   0.196601  \n4   0.169012  \n..       ...  \n67  1.014071  \n68  1.052261  \n69  0.717546  \n70  0.695728  \n71  0.414011  \n\n[72 rows x 24 columns]",
      "text/html": "<div>\n<style scoped>\n    .dataframe tbody tr th:only-of-type {\n        vertical-align: middle;\n    }\n\n    .dataframe tbody tr th {\n        vertical-align: top;\n    }\n\n    .dataframe thead th {\n        text-align: right;\n    }\n</style>\n<table border=\"1\" class=\"dataframe\">\n  <thead>\n    <tr style=\"text-align: right;\">\n      <th></th>\n      <th>Max_PSDCh0</th>\n      <th>Max_PSDCh1</th>\n      <th>Max_PSDCh2</th>\n      <th>Max_PSDCh3</th>\n      <th>Max_PSDCh4</th>\n      <th>Max_PSDCh5</th>\n      <th>Max_PSDCh6</th>\n      <th>Max_PSDCh7</th>\n      <th>Mean_Ch0</th>\n      <th>Mean_Ch1</th>\n      <th>...</th>\n      <th>Mean_Ch6</th>\n      <th>Mean_Ch7</th>\n      <th>STD_Ch0</th>\n      <th>STD_Ch1</th>\n      <th>STD_Ch2</th>\n      <th>STD_Ch3</th>\n      <th>STD_Ch4</th>\n      <th>STD_Ch5</th>\n      <th>STD_Ch6</th>\n      <th>STD_Ch7</th>\n    </tr>\n  </thead>\n  <tbody>\n    <tr>\n      <th>0</th>\n      <td>7.652409</td>\n      <td>0.870480</td>\n      <td>1.253394</td>\n      <td>0.163127</td>\n      <td>0.524881</td>\n      <td>4.889725</td>\n      <td>1.258820</td>\n      <td>2.036323</td>\n      <td>2.461753</td>\n      <td>0.884367</td>\n      <td>...</td>\n      <td>1.467687</td>\n      <td>1.522724</td>\n      <td>1.598083</td>\n      <td>0.538037</td>\n      <td>0.697017</td>\n      <td>0.272103</td>\n      <td>0.452000</td>\n      <td>1.225126</td>\n      <td>0.717386</td>\n      <td>0.824354</td>\n    </tr>\n    <tr>\n      <th>1</th>\n      <td>5.993175</td>\n      <td>0.916624</td>\n      <td>1.370589</td>\n      <td>0.064929</td>\n      <td>0.371108</td>\n      <td>4.699208</td>\n      <td>0.257998</td>\n      <td>0.825740</td>\n      <td>1.852822</td>\n      <td>0.724786</td>\n      <td>...</td>\n      <td>1.240172</td>\n      <td>1.048764</td>\n      <td>1.307164</td>\n      <td>0.483155</td>\n      <td>0.558576</td>\n      <td>0.154024</td>\n      <td>0.293552</td>\n      <td>0.966567</td>\n      <td>0.442312</td>\n      <td>0.554177</td>\n    </tr>\n    <tr>\n      <th>2</th>\n      <td>11.189908</td>\n      <td>1.430859</td>\n      <td>2.469341</td>\n      <td>0.133657</td>\n      <td>0.532599</td>\n      <td>5.552706</td>\n      <td>1.926788</td>\n      <td>2.557298</td>\n      <td>1.504886</td>\n      <td>0.607292</td>\n      <td>...</td>\n      <td>1.261233</td>\n      <td>0.961252</td>\n      <td>1.283871</td>\n      <td>0.481421</td>\n      <td>0.619158</td>\n      <td>0.157426</td>\n      <td>0.291940</td>\n      <td>0.908751</td>\n      <td>0.595076</td>\n      <td>0.643937</td>\n    </tr>\n    <tr>\n      <th>3</th>\n      <td>0.019743</td>\n      <td>0.005509</td>\n      <td>0.001627</td>\n      <td>0.001724</td>\n      <td>0.003490</td>\n      <td>0.142551</td>\n      <td>3.337406</td>\n      <td>0.097002</td>\n      <td>0.164777</td>\n      <td>0.102597</td>\n      <td>...</td>\n      <td>1.566955</td>\n      <td>0.346430</td>\n      <td>0.082071</td>\n      <td>0.046922</td>\n      <td>0.036009</td>\n      <td>0.032963</td>\n      <td>0.042683</td>\n      <td>0.209884</td>\n      <td>0.893496</td>\n      <td>0.196601</td>\n    </tr>\n    <tr>\n      <th>4</th>\n      <td>0.003730</td>\n      <td>0.001209</td>\n      <td>0.001250</td>\n      <td>0.002526</td>\n      <td>0.002793</td>\n      <td>0.021635</td>\n      <td>2.222792</td>\n      <td>0.063459</td>\n      <td>0.137079</td>\n      <td>0.094505</td>\n      <td>...</td>\n      <td>1.734248</td>\n      <td>0.352231</td>\n      <td>0.050085</td>\n      <td>0.028896</td>\n      <td>0.033830</td>\n      <td>0.048953</td>\n      <td>0.046327</td>\n      <td>0.156390</td>\n      <td>0.905133</td>\n      <td>0.169012</td>\n    </tr>\n    <tr>\n      <th>...</th>\n      <td>...</td>\n      <td>...</td>\n      <td>...</td>\n      <td>...</td>\n      <td>...</td>\n      <td>...</td>\n      <td>...</td>\n      <td>...</td>\n      <td>...</td>\n      <td>...</td>\n      <td>...</td>\n      <td>...</td>\n      <td>...</td>\n      <td>...</td>\n      <td>...</td>\n      <td>...</td>\n      <td>...</td>\n      <td>...</td>\n      <td>...</td>\n      <td>...</td>\n      <td>...</td>\n    </tr>\n    <tr>\n      <th>67</th>\n      <td>0.274230</td>\n      <td>1.335306</td>\n      <td>3.025513</td>\n      <td>0.782235</td>\n      <td>0.051268</td>\n      <td>0.083294</td>\n      <td>1.576973</td>\n      <td>3.392395</td>\n      <td>0.410538</td>\n      <td>0.741944</td>\n      <td>...</td>\n      <td>1.194214</td>\n      <td>1.180386</td>\n      <td>0.297708</td>\n      <td>0.609953</td>\n      <td>0.956086</td>\n      <td>0.460652</td>\n      <td>0.122881</td>\n      <td>0.167656</td>\n      <td>0.741006</td>\n      <td>1.014071</td>\n    </tr>\n    <tr>\n      <th>68</th>\n      <td>0.161785</td>\n      <td>0.625879</td>\n      <td>0.206804</td>\n      <td>0.698414</td>\n      <td>0.029966</td>\n      <td>0.091672</td>\n      <td>2.444174</td>\n      <td>4.300933</td>\n      <td>0.375095</td>\n      <td>0.506335</td>\n      <td>...</td>\n      <td>1.259805</td>\n      <td>1.434972</td>\n      <td>0.216849</td>\n      <td>0.403277</td>\n      <td>0.328214</td>\n      <td>0.443161</td>\n      <td>0.109468</td>\n      <td>0.167925</td>\n      <td>0.791170</td>\n      <td>1.052261</td>\n    </tr>\n    <tr>\n      <th>69</th>\n      <td>0.304201</td>\n      <td>1.971109</td>\n      <td>3.671105</td>\n      <td>15.175392</td>\n      <td>0.165946</td>\n      <td>0.025881</td>\n      <td>0.802250</td>\n      <td>1.204990</td>\n      <td>0.534697</td>\n      <td>0.973301</td>\n      <td>...</td>\n      <td>0.797412</td>\n      <td>1.248650</td>\n      <td>0.366439</td>\n      <td>0.862780</td>\n      <td>1.123683</td>\n      <td>2.154211</td>\n      <td>0.227617</td>\n      <td>0.133867</td>\n      <td>0.755354</td>\n      <td>0.717546</td>\n    </tr>\n    <tr>\n      <th>70</th>\n      <td>0.636367</td>\n      <td>3.774936</td>\n      <td>16.319276</td>\n      <td>25.054576</td>\n      <td>0.526915</td>\n      <td>0.065198</td>\n      <td>0.469723</td>\n      <td>1.639677</td>\n      <td>0.565241</td>\n      <td>0.876987</td>\n      <td>...</td>\n      <td>0.939398</td>\n      <td>0.910618</td>\n      <td>0.438780</td>\n      <td>1.005547</td>\n      <td>2.031488</td>\n      <td>2.400223</td>\n      <td>0.366349</td>\n      <td>0.169035</td>\n      <td>0.482770</td>\n      <td>0.695728</td>\n    </tr>\n    <tr>\n      <th>71</th>\n      <td>0.373863</td>\n      <td>1.636312</td>\n      <td>10.753554</td>\n      <td>21.667730</td>\n      <td>0.479927</td>\n      <td>0.035235</td>\n      <td>0.118625</td>\n      <td>0.528466</td>\n      <td>0.547782</td>\n      <td>0.693597</td>\n      <td>...</td>\n      <td>0.470020</td>\n      <td>0.696596</td>\n      <td>0.364978</td>\n      <td>0.661134</td>\n      <td>1.635674</td>\n      <td>2.312570</td>\n      <td>0.378568</td>\n      <td>0.129338</td>\n      <td>0.232223</td>\n      <td>0.414011</td>\n    </tr>\n  </tbody>\n</table>\n<p>72 rows × 24 columns</p>\n</div>"
     },
     "metadata": {},
     "output_type": "display_data"
    }
   ],
   "source": [
    "'''Merge all three features into a big ass dataframe'''\n",
    "Feature_df = pd.concat([PSD_df_1,Mean_df_1,std_df_1],axis=1,join = 'outer')\n",
    "display(Feature_df)\n"
   ],
   "metadata": {
    "collapsed": false,
    "pycharm": {
     "name": "#%%\n"
    }
   }
  },
  {
   "cell_type": "code",
   "execution_count": 11,
   "outputs": [],
   "source": [
    "'''Time to do PCA Pipline'''\n",
    "#from sklearn.decomposition import  PCA\n",
    "#from sklearn.pipeline import make_pipeline\n",
    "#from sklearn.preprocessing import StandardScaler\n",
    "\n",
    "#CA_Feat= make_pipeline(StandardScaler(), PCA(n_components=7, svd_solver='full'))\n"
   ],
   "metadata": {
    "collapsed": false,
    "pycharm": {
     "name": "#%%\n"
    }
   }
  },
  {
   "cell_type": "code",
   "execution_count": 12,
   "outputs": [
    {
     "ename": "AttributeError",
     "evalue": "'numpy.ndarray' object has no attribute 'explained_variance_ratio'",
     "output_type": "error",
     "traceback": [
      "\u001B[1;31m---------------------------------------------------------------------------\u001B[0m",
      "\u001B[1;31mAttributeError\u001B[0m                            Traceback (most recent call last)",
      "\u001B[1;32m~\\AppData\\Local\\Temp\\ipykernel_19212\\1704827967.py\u001B[0m in \u001B[0;36m<module>\u001B[1;34m\u001B[0m\n\u001B[0;32m      2\u001B[0m \u001B[0mPip_fit\u001B[0m \u001B[1;33m=\u001B[0m \u001B[0mPCA_Feat\u001B[0m\u001B[1;33m.\u001B[0m\u001B[0mfit\u001B[0m\u001B[1;33m(\u001B[0m\u001B[0mFeature_df\u001B[0m\u001B[1;33m)\u001B[0m\u001B[1;33m\u001B[0m\u001B[1;33m\u001B[0m\u001B[0m\n\u001B[0;32m      3\u001B[0m \u001B[0mT_PCA_Feat\u001B[0m \u001B[1;33m=\u001B[0m\u001B[0mPCA_Feat\u001B[0m\u001B[1;33m.\u001B[0m\u001B[0mtransform\u001B[0m\u001B[1;33m(\u001B[0m\u001B[0mFeature_df\u001B[0m\u001B[1;33m)\u001B[0m\u001B[1;33m\u001B[0m\u001B[1;33m\u001B[0m\u001B[0m\n\u001B[1;32m----> 4\u001B[1;33m \u001B[0mvar_PCA\u001B[0m \u001B[1;33m=\u001B[0m \u001B[0mT_PCA_Feat\u001B[0m\u001B[1;33m.\u001B[0m\u001B[0mexplained_variance_ratio\u001B[0m\u001B[1;33m\u001B[0m\u001B[1;33m\u001B[0m\u001B[0m\n\u001B[0m\u001B[0;32m      5\u001B[0m \u001B[1;31m#display(Pip_fit)\u001B[0m\u001B[1;33m\u001B[0m\u001B[1;33m\u001B[0m\u001B[1;33m\u001B[0m\u001B[0m\n\u001B[0;32m      6\u001B[0m \u001B[1;31m#print(Pip_fit.explained_variance_ratio_)\u001B[0m\u001B[1;33m\u001B[0m\u001B[1;33m\u001B[0m\u001B[1;33m\u001B[0m\u001B[0m\n",
      "\u001B[1;31mAttributeError\u001B[0m: 'numpy.ndarray' object has no attribute 'explained_variance_ratio'"
     ]
    }
   ],
   "source": [
    "'''Run the PCA Pipeline'''\n",
    "#Pip_fit = PCA_Feat.fit(Feature_df)\n",
    "#T_PCA_Feat =PCA_Feat.transform(Feature_df)\n",
    "#var_PCA = T_PCA_Feat.explained_variance_ratio\n",
    "#display(Pip_fit)\n",
    "#print(Pip_fit.explained_variance_ratio_)\n"
   ],
   "metadata": {
    "collapsed": false,
    "pycharm": {
     "name": "#%%\n"
    }
   }
  },
  {
   "cell_type": "code",
   "execution_count": null,
   "outputs": [],
   "source": [
    "#pca\n",
    "\n",
    "#svm\n",
    "#kmeans\n",
    "classes = ['Fist', 'Slight Left', 'Hard Left','Palm Up', 'Slight Right', 'Hard Right']\n",
    "svmClass_df = pd.DataFrame({\"Class\":['Fist','Fist','Fist', 'Slight Left','Slight Left','Slight Left', 'Hard Left','Hard Left','Hard Left','Palm Up','Palm Up','Palm Up', 'Slight Right','Slight Right','Slight Right', 'Hard Right','Hard Right','Hard Right']})\n",
    "svmFeature_df = pd.concat([svmClass_df,PSD_df_1,Mean_df_1,std_df_1],axis=1,join = 'outer')\n",
    "import sklearn\n",
    "from sklearn.pipeline import make_pipeline\n",
    "from sklearn.preprocessing import StandardScaler, LabelEncoder\n",
    "from sklearn.svm import SVC\n",
    "from sklearn.model_selection import LeaveOneGroupOut\n",
    "from sklearn.metrics import classification_report\n",
    "from sklearn.decomposition import PCA\n",
    "'''We are going to do Leave-One-Out Cross Validation'''\n",
    "groups = svmFeature_df['Class'].values # Specify groups\n",
    "svm_X = Feature_df.values # specify Feature columns\n",
    "'''Create our Labels from Categories'''\n",
    "le = LabelEncoder()\n",
    "le.fit(svmFeature_df['Class'].values) # Specify Classes\n",
    "svm_y = le.transform(svmFeature_df['Class'].values) # Transform categories into class labels\n",
    "#display(svm_y)\n",
    "\n",
    "''' Initialize groups'''\n",
    "svm_logo = LeaveOneGroupOut()\n",
    "'''Look at how many groups we have (should be the number of participants)'''\n",
    "svm_logo.get_n_splits(svm_X, svm_y, groups)\n",
    "svm_predicted = np.array([])\n",
    "svm_true = np.array([])\n",
    "\n",
    "'''We can create a classifaction pipeline'''\n",
    "svm_clf = make_pipeline(StandardScaler(), # Standardize the inputs\n",
    "                    PCA(n_components=0.9, svd_solver='full'),  # PCA with 0.9 as the threshold for explain variance\n",
    "                    SVC(kernel='linear', gamma='auto', class_weight='balanced')) # SVM with RBF kernel\n",
    "#rbf, linear, poly\n",
    "''' We can cycle through each group, fit our model, and record our results'''\n",
    "for train_index, test_index in svm_logo.split(svm_X, svm_y, groups):\n",
    "    X_train, X_test = svm_X[train_index], svm_X[test_index] # get x training/testing\n",
    "    y_train, y_test = svm_y[train_index], svm_y[test_index] # get y training/testing\n",
    "    svm_clf.fit(X_train, y_train) # fit our model\n",
    "    svm_predicted = np.hstack((svm_predicted, svm_clf.predict(X_test)))\n",
    "    svm_true = np.hstack((svm_true, y_test))\n",
    "from sklearn.metrics import confusion_matrix, ConfusionMatrixDisplay\n",
    "'''View Results'''\n",
    "display(pd.DataFrame(classification_report(svm_true, svm_predicted,output_dict=True)).transpose())\n",
    "\n",
    "cm = confusion_matrix(svm_true, svm_predicted)\n",
    "disp = ConfusionMatrixDisplay(confusion_matrix=cm)\n",
    "disp.plot()"
   ],
   "metadata": {
    "collapsed": false,
    "pycharm": {
     "name": "#%%\n"
    }
   }
  },
  {
   "cell_type": "code",
   "execution_count": null,
   "outputs": [],
   "source": [
    "from sklearn.ensemble import RandomForestClassifier\n",
    "from sklearn.datasets import make_classification\n",
    "from sklearn import metrics\n",
    "from sklearn.model_selection import train_test_split\n",
    "from sklearn.tree import DecisionTreeClassifier\n",
    "#from sklearn.linear_model import LogisticRegression\n",
    "from sklearn.metrics import accuracy_score\n",
    "rf_model = RandomForestClassifier()\n",
    "rfFeature_df = pd.concat([svmClass_df,PSD_df_1,Mean_df_1,std_df_1],axis=1,join = 'outer')\n",
    "rfX = rfFeature_df.drop('Class', axis = 1) # specify Feature columns\n",
    "'''Create our Labels from Categories'''\n",
    "rfle = LabelEncoder()\n",
    "rfle.fit(rfFeature_df['Class'].values) # Specify Classes\n",
    "rfy = rfle.transform(rfFeature_df['Class'].values)\n",
    "\n",
    "\n",
    "# Split dataset into training set and test set\n",
    "rfX_train, rfX_test, rfy_train, rfy_test = train_test_split(rfX, rfy, test_size=0.3)\n",
    "rf_clf = make_pipeline(StandardScaler(),\n",
    "                    PCA(n_components=0.9, svd_solver='full'),\n",
    "                    RandomForestClassifier(n_estimators = 50, max_depth = 4))\n",
    "rf_clf.fit(rfX_train,rfy_train)\n",
    "\n",
    "rf_model.fit(rfX_train, rfy_train) #rfy_train.index\n",
    "rfy_pred=rf_clf.predict(rfX_test)\n",
    "print(\"Accuracy:\",metrics.accuracy_score(rfy_test, rfy_pred))\n",
    "rf_predictions = rf_model.predict(rfX_train)\n",
    "print(\"Accuracy Score:\",accuracy_score(rfy_train, rf_predictions))\n",
    "importance_1 = rf_model.feature_importances_\n",
    "set_importances = pd.Series(importance_1, index=Feature_df.columns)\n",
    "#importances = importances.sort_values(by='Importance', ascending=False)\n",
    "#rf rand forest\n",
    "#print(importances)\n",
    "p = set_importances.plot(x='features', y='importances', kind='bar', color='r', alpha=0.5, title = \"Feature Importance\", xlabel = \"Features\" , ylabel = \"Importance\")\n",
    "\n",
    "#confusion matrix\n",
    "#accuracy"
   ],
   "metadata": {
    "collapsed": false,
    "pycharm": {
     "name": "#%%\n"
    }
   }
  },
  {
   "cell_type": "code",
   "execution_count": null,
   "outputs": [],
   "source": [
    "rfX=pd.DataFrame({'Features':[\"['Max_PSDCh0', 'Max_PSDCh1', 'Max_PSDCh2', 'Max_PSDCh3', 'Max_PSDCh4',\n",
    "       'Max_PSDCh5', 'Max_PSDCh6', 'Max_PSDCh7', 'Mean_Ch0', 'Mean_Ch1',\n",
    "       'Mean_Ch2', 'Mean_Ch3', 'Mean_Ch4', 'Mean_Ch5', 'Mean_Ch6', 'Mean_Ch7',\n",
    "       'STD_Ch0', 'STD_Ch1', 'STD_Ch2', 'STD_Ch3', 'STD_Ch4', 'STD_Ch5',\n",
    "       'STD_Ch6', 'STD_Ch7']})  # Features\n",
    "rfy=rf_df['Class']  # Labels\n",
    "\n",
    "importances = pd.DataFrame(rfFeature_df, columns ={\n",
    "    'Attribute': rfX_train.columns,\n",
    "    'Importance': rf_model.coef_[0]\n",
    "})"
   ],
   "metadata": {
    "collapsed": false,
    "pycharm": {
     "name": "#%%\n"
    }
   }
  },
  {
   "cell_type": "code",
   "execution_count": null,
   "outputs": [],
   "source": [],
   "metadata": {
    "collapsed": false,
    "pycharm": {
     "name": "#%%\n"
    }
   }
  }
 ],
 "metadata": {
  "kernelspec": {
   "display_name": "Python 3 (ipykernel)",
   "language": "python",
   "name": "python3"
  },
  "language_info": {
   "codemirror_mode": {
    "name": "ipython",
    "version": 3
   },
   "file_extension": ".py",
   "mimetype": "text/x-python",
   "name": "python",
   "nbconvert_exporter": "python",
   "pygments_lexer": "ipython3",
   "version": "3.7.9"
  }
 },
 "nbformat": 4,
 "nbformat_minor": 1
}